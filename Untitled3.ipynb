{
 "cells": [
  {
   "cell_type": "code",
   "execution_count": 189,
   "metadata": {},
   "outputs": [],
   "source": [
    "#For checking the result for a given image just provide the source file\n",
    "def result(source):\n",
    "    img = imgread(source)\n",
    "    res = model.predict(img)\n",
    "    res = int((res[0][0]).round())\n",
    "    return categories[res]\n",
    "result('Provide input source here')     "
   ]
  },
  {
   "cell_type": "code",
   "execution_count": null,
   "metadata": {},
   "outputs": [],
   "source": [
    "#Code for the network starts from here"
   ]
  },
  {
   "cell_type": "code",
   "execution_count": null,
   "metadata": {},
   "outputs": [],
   "source": []
  },
  {
   "cell_type": "code",
   "execution_count": 55,
   "metadata": {},
   "outputs": [],
   "source": [
    "#importing the necessary libraries\n",
    "\n",
    "from tensorflow.keras.preprocessing.image import ImageDataGenerator\n",
    "from tensorflow.keras.applications import VGG16\n",
    "from tensorflow.keras.layers import AveragePooling2D\n",
    "from tensorflow.keras.layers import Dropout\n",
    "from tensorflow.keras.layers import Flatten\n",
    "from tensorflow.keras.layers import Dense\n",
    "from tensorflow.keras.layers import Input\n",
    "from tensorflow.keras.models import Model\n",
    "from tensorflow.keras.optimizers import Adam\n",
    "\n",
    "from sklearn.model_selection import train_test_split\n",
    "from sklearn.metrics import classification_report\n",
    "from sklearn.metrics import confusion_matrix\n",
    "\n",
    "import matplotlib.pyplot as plt\n",
    "import numpy as np\n",
    "import argparse\n",
    "import cv2\n",
    "import os"
   ]
  },
  {
   "cell_type": "code",
   "execution_count": 2,
   "metadata": {},
   "outputs": [],
   "source": [
    "file_list = [] #file list \n",
    "class_list = [] #classes\n",
    "\n",
    "datadir = 'dataset/'\n",
    "categories = ['covid','normal']\n",
    "imsize = 224 \n",
    "\n",
    "trainig_data  = []\n",
    "def create_data():\n",
    "    for category in categories:\n",
    "        path = os.path.join(datadir,category)\n",
    "        class_num = categories.index(category)\n",
    "        for img in os.listdir(path):\n",
    "            try:\n",
    "                image_array = cv2.imread(os.path.join(path,img))\n",
    "                image_array = cv2.cvtColor(image_array,cv2.COLOR_BGR2RGB)\n",
    "                new_array = cv2.resize(image_array,(imsize,imsize))\n",
    "                trainig_data.append([new_array,class_num])\n",
    "            except Exception as e:\n",
    "                pass"
   ]
  },
  {
   "cell_type": "code",
   "execution_count": 46,
   "metadata": {},
   "outputs": [],
   "source": [
    "create_data()"
   ]
  },
  {
   "cell_type": "code",
   "execution_count": 47,
   "metadata": {},
   "outputs": [],
   "source": [
    "random.shuffle(trainig_data)\n",
    "\n",
    "X = []\n",
    "y = []\n",
    "\n",
    "for (features,categori) in trainig_data:\n",
    "    X.append(features)\n",
    "    y.append(categori)\n",
    "    "
   ]
  },
  {
   "cell_type": "code",
   "execution_count": 50,
   "metadata": {},
   "outputs": [],
   "source": [
    "from sklearn.model_selection import train_test_split\n",
    "X_train,X_test,y_train,y_test = train_test_split(X,y,test_size= 0.125)\n",
    "X_train,X_val,y_train,y_val = train_test_split(X_train,y_train,test_size=0.125)\n",
    "\n",
    "X_train = np.asarray(X_train)\n",
    "X_test = np.asarray(X_test)\n",
    "X_val = np.asarray(X_val)\n",
    "y_train = np.asarray(y_train)\n",
    "y_test = np.asarray(y_test)\n",
    "y_val = np.asarray(y_val)"
   ]
  },
  {
   "cell_type": "code",
   "execution_count": 80,
   "metadata": {},
   "outputs": [],
   "source": [
    "from keras.preprocessing.image import ImageDataGenerator"
   ]
  },
  {
   "cell_type": "code",
   "execution_count": 81,
   "metadata": {},
   "outputs": [],
   "source": [
    "train_datagen = ImageDataGenerator(\n",
    "                rescale=1./255,\n",
    "                rotation_range =15,\n",
    "                fill_mode='nearest')"
   ]
  },
  {
   "cell_type": "code",
   "execution_count": 82,
   "metadata": {},
   "outputs": [],
   "source": [
    "from tensorflow.keras.applications import VGG16 "
   ]
  },
  {
   "cell_type": "code",
   "execution_count": 57,
   "metadata": {},
   "outputs": [
    {
     "name": "stdout",
     "output_type": "stream",
     "text": [
      "Downloading data from https://github.com/fchollet/deep-learning-models/releases/download/v0.1/vgg16_weights_tf_dim_ordering_tf_kernels_notop.h5\n",
      "58892288/58889256 [==============================] - 266s 5us/step\n"
     ]
    }
   ],
   "source": [
    "#the base model on which we are gonna build our model , I used the popular VGG network which was trained on similar data for my task\n",
    "\n",
    "baseModel = VGG16(weights=\"imagenet\", include_top=False,\n",
    "\tinput_tensor=Input(shape=(224, 224, 3)))"
   ]
  },
  {
   "cell_type": "code",
   "execution_count": 136,
   "metadata": {},
   "outputs": [],
   "source": [
    "\n",
    "#making the base  model untrainable\n",
    "for layer in baseModel.layers:\n",
    "    layer.trainable = False"
   ]
  },
  {
   "cell_type": "code",
   "execution_count": 134,
   "metadata": {},
   "outputs": [],
   "source": [
    "# the model which we add over our base model\n",
    "\n",
    "headmodel = baseModel.output\n",
    "headmodel = AveragePooling2D(pool_size=(4,4))(headmodel)\n",
    "headmodel = Flatten(name='flatten')(headmodel)\n",
    "headmodel = Dense(64,activation='relu')(headmodel)\n",
    "headmodel = Dropout(0.5)(headmodel)\n",
    "headmodel = Dense(1,activation='sigmoid')(headmodel)"
   ]
  },
  {
   "cell_type": "code",
   "execution_count": 135,
   "metadata": {},
   "outputs": [],
   "source": [
    "model = Model(inputs=baseModel.input , outputs = headmodel)"
   ]
  },
  {
   "cell_type": "code",
   "execution_count": 137,
   "metadata": {},
   "outputs": [
    {
     "name": "stdout",
     "output_type": "stream",
     "text": [
      "Model: \"model_7\"\n",
      "_________________________________________________________________\n",
      "Layer (type)                 Output Shape              Param #   \n",
      "=================================================================\n",
      "input_1 (InputLayer)         [(None, 224, 224, 3)]     0         \n",
      "_________________________________________________________________\n",
      "block1_conv1 (Conv2D)        (None, 224, 224, 64)      1792      \n",
      "_________________________________________________________________\n",
      "block1_conv2 (Conv2D)        (None, 224, 224, 64)      36928     \n",
      "_________________________________________________________________\n",
      "block1_pool (MaxPooling2D)   (None, 112, 112, 64)      0         \n",
      "_________________________________________________________________\n",
      "block2_conv1 (Conv2D)        (None, 112, 112, 128)     73856     \n",
      "_________________________________________________________________\n",
      "block2_conv2 (Conv2D)        (None, 112, 112, 128)     147584    \n",
      "_________________________________________________________________\n",
      "block2_pool (MaxPooling2D)   (None, 56, 56, 128)       0         \n",
      "_________________________________________________________________\n",
      "block3_conv1 (Conv2D)        (None, 56, 56, 256)       295168    \n",
      "_________________________________________________________________\n",
      "block3_conv2 (Conv2D)        (None, 56, 56, 256)       590080    \n",
      "_________________________________________________________________\n",
      "block3_conv3 (Conv2D)        (None, 56, 56, 256)       590080    \n",
      "_________________________________________________________________\n",
      "block3_pool (MaxPooling2D)   (None, 28, 28, 256)       0         \n",
      "_________________________________________________________________\n",
      "block4_conv1 (Conv2D)        (None, 28, 28, 512)       1180160   \n",
      "_________________________________________________________________\n",
      "block4_conv2 (Conv2D)        (None, 28, 28, 512)       2359808   \n",
      "_________________________________________________________________\n",
      "block4_conv3 (Conv2D)        (None, 28, 28, 512)       2359808   \n",
      "_________________________________________________________________\n",
      "block4_pool (MaxPooling2D)   (None, 14, 14, 512)       0         \n",
      "_________________________________________________________________\n",
      "block5_conv1 (Conv2D)        (None, 14, 14, 512)       2359808   \n",
      "_________________________________________________________________\n",
      "block5_conv2 (Conv2D)        (None, 14, 14, 512)       2359808   \n",
      "_________________________________________________________________\n",
      "block5_conv3 (Conv2D)        (None, 14, 14, 512)       2359808   \n",
      "_________________________________________________________________\n",
      "block5_pool (MaxPooling2D)   (None, 7, 7, 512)         0         \n",
      "_________________________________________________________________\n",
      "average_pooling2d_5 (Average (None, 1, 1, 512)         0         \n",
      "_________________________________________________________________\n",
      "flatten (Flatten)            (None, 512)               0         \n",
      "_________________________________________________________________\n",
      "dense_10 (Dense)             (None, 64)                32832     \n",
      "_________________________________________________________________\n",
      "dropout_5 (Dropout)          (None, 64)                0         \n",
      "_________________________________________________________________\n",
      "dense_11 (Dense)             (None, 1)                 65        \n",
      "=================================================================\n",
      "Total params: 14,747,585\n",
      "Trainable params: 32,897\n",
      "Non-trainable params: 14,714,688\n",
      "_________________________________________________________________\n"
     ]
    }
   ],
   "source": [
    "model.summary()"
   ]
  },
  {
   "cell_type": "code",
   "execution_count": 138,
   "metadata": {},
   "outputs": [],
   "source": [
    "model.compile(optimizer='adam',loss='binary_crossentropy',metrics=['accuracy'])"
   ]
  },
  {
   "cell_type": "code",
   "execution_count": 139,
   "metadata": {},
   "outputs": [],
   "source": [
    "test_datagen = ImageDataGenerator(\n",
    "rescale = 1./255)"
   ]
  },
  {
   "cell_type": "code",
   "execution_count": 140,
   "metadata": {},
   "outputs": [],
   "source": [
    "#early stopping \n",
    "early_stopping = tf.keras.callbacks.EarlyStopping(monitor='val_loss',patience=5)"
   ]
  },
  {
   "cell_type": "code",
   "execution_count": 141,
   "metadata": {},
   "outputs": [
    {
     "name": "stdout",
     "output_type": "stream",
     "text": [
      "WARNING:tensorflow:sample_weight modes were coerced from\n",
      "  ...\n",
      "    to  \n",
      "  ['...']\n",
      "Train for 1 steps, validate on 6 samples\n",
      "Epoch 1/30\n",
      "1/1 [==============================] - 2s 2s/step - loss: 1.7825 - accuracy: 0.2000 - val_loss: 10.0171 - val_accuracy: 0.3333\n",
      "Epoch 2/30\n",
      "1/1 [==============================] - 2s 2s/step - loss: 1.7208 - accuracy: 0.2000 - val_loss: 8.2005 - val_accuracy: 0.3333\n",
      "Epoch 3/30\n",
      "1/1 [==============================] - 5s 5s/step - loss: 0.8649 - accuracy: 0.5312 - val_loss: 6.5358 - val_accuracy: 0.3333\n",
      "Epoch 4/30\n",
      "1/1 [==============================] - 5s 5s/step - loss: 0.7572 - accuracy: 0.5625 - val_loss: 5.3535 - val_accuracy: 0.3333\n",
      "Epoch 5/30\n",
      "1/1 [==============================] - 5s 5s/step - loss: 0.8615 - accuracy: 0.5312 - val_loss: 4.5455 - val_accuracy: 0.0000e+00\n",
      "Epoch 6/30\n",
      "1/1 [==============================] - 2s 2s/step - loss: 0.9922 - accuracy: 0.2000 - val_loss: 3.9972 - val_accuracy: 0.0000e+00\n",
      "Epoch 7/30\n",
      "1/1 [==============================] - 2s 2s/step - loss: 1.0387 - accuracy: 0.4000 - val_loss: 3.6458 - val_accuracy: 0.3333\n",
      "Epoch 8/30\n",
      "1/1 [==============================] - 2s 2s/step - loss: 0.8801 - accuracy: 0.2000 - val_loss: 3.4683 - val_accuracy: 0.3333\n",
      "Epoch 9/30\n",
      "1/1 [==============================] - 2s 2s/step - loss: 0.8061 - accuracy: 0.6000 - val_loss: 3.3799 - val_accuracy: 0.3333\n",
      "Epoch 10/30\n",
      "1/1 [==============================] - 5s 5s/step - loss: 0.9515 - accuracy: 0.4062 - val_loss: 3.3334 - val_accuracy: 0.5000\n",
      "Epoch 11/30\n",
      "1/1 [==============================] - 5s 5s/step - loss: 1.0171 - accuracy: 0.3125 - val_loss: 3.2619 - val_accuracy: 0.5000\n",
      "Epoch 12/30\n",
      "1/1 [==============================] - 5s 5s/step - loss: 0.7272 - accuracy: 0.5625 - val_loss: 3.1316 - val_accuracy: 0.5000\n",
      "Epoch 13/30\n",
      "1/1 [==============================] - 5s 5s/step - loss: 1.0328 - accuracy: 0.4062 - val_loss: 2.9406 - val_accuracy: 0.5000\n",
      "Epoch 14/30\n",
      "1/1 [==============================] - 2s 2s/step - loss: 0.5197 - accuracy: 0.8000 - val_loss: 2.7805 - val_accuracy: 0.3333\n",
      "Epoch 15/30\n",
      "1/1 [==============================] - 2s 2s/step - loss: 0.6772 - accuracy: 0.6000 - val_loss: 2.6599 - val_accuracy: 0.3333\n",
      "Epoch 16/30\n",
      "1/1 [==============================] - 5s 5s/step - loss: 0.9020 - accuracy: 0.4688 - val_loss: 2.5400 - val_accuracy: 0.3333\n",
      "Epoch 17/30\n",
      "1/1 [==============================] - 5s 5s/step - loss: 0.8240 - accuracy: 0.4375 - val_loss: 2.4538 - val_accuracy: 0.3333\n",
      "Epoch 18/30\n",
      "1/1 [==============================] - 5s 5s/step - loss: 0.7922 - accuracy: 0.5625 - val_loss: 2.4295 - val_accuracy: 0.3333\n",
      "Epoch 19/30\n",
      "1/1 [==============================] - 2s 2s/step - loss: 0.6247 - accuracy: 0.6000 - val_loss: 2.4562 - val_accuracy: 0.3333\n",
      "Epoch 20/30\n",
      "1/1 [==============================] - 2s 2s/step - loss: 0.5014 - accuracy: 0.8000 - val_loss: 2.5381 - val_accuracy: 0.1667\n",
      "Epoch 21/30\n",
      "1/1 [==============================] - 2s 2s/step - loss: 0.5272 - accuracy: 0.6000 - val_loss: 2.6638 - val_accuracy: 0.3333\n",
      "Epoch 22/30\n",
      "1/1 [==============================] - 2s 2s/step - loss: 0.4815 - accuracy: 0.8000 - val_loss: 2.8311 - val_accuracy: 0.3333\n",
      "Epoch 23/30\n",
      "1/1 [==============================] - 5s 5s/step - loss: 0.7755 - accuracy: 0.4688 - val_loss: 3.0787 - val_accuracy: 0.3333\n"
     ]
    }
   ],
   "source": [
    "#model Training\n",
    "\n",
    "H = model.fit_generator(\n",
    "train_datagen.flow(X_train, y_train, batch_size=32),\n",
    "steps_per_epoch=len(X_train) // 32,\n",
    "validation_data=(X_val, y_val),\n",
    "validation_steps=len(X_val) // 32,\n",
    "epochs=30,\n",
    "callbacks = [early_stopping])\n"
   ]
  },
  {
   "cell_type": "code",
   "execution_count": 192,
   "metadata": {},
   "outputs": [
    {
     "data": {
      "text/plain": [
       "<matplotlib.legend.Legend at 0x267c2826ba8>"
      ]
     },
     "execution_count": 192,
     "metadata": {},
     "output_type": "execute_result"
    },
    {
     "data": {
      "image/png": "[encoded data removed]",
      "text/plain": [
       "<Figure size 432x288 with 1 Axes>"
      ]
     },
     "metadata": {},
     "output_type": "display_data"
    }
   ],
   "source": [
    "#model training process visual\n",
    "\n",
    "plt.style.use('ggplot')\n",
    "plt.figure()\n",
    "plt.plot(H.history['loss'],label = 'train_loss')\n",
    "plt.plot(H.history['accuracy'],label='train_accuracy')\n",
    "plt.plot(H.history['val_loss'],label='val_loss')\n",
    "plt.plot(H.history['val_accuracy'],label='val_accuracy')\n",
    "plt.title('Training and Validation per epoch')\n",
    "plt.xlabel('Epoch')\n",
    "plt.ylabel('Loss/Accuracy')\n",
    "plt.legend(loc='upper left')\n"
   ]
  },
  {
   "cell_type": "code",
   "execution_count": 142,
   "metadata": {},
   "outputs": [
    {
     "data": {
      "text/plain": [
       "0.8571428571428571"
      ]
     },
     "execution_count": 142,
     "metadata": {},
     "output_type": "execute_result"
    }
   ],
   "source": [
    "#accuracy score over test set\n",
    "pred = model.predict(X_test)\n",
    "from sklearn.metrics import accuracy_score\n",
    "accuracy_score(y_test,pred.round())"
   ]
  },
  {
   "cell_type": "code",
   "execution_count": 144,
   "metadata": {},
   "outputs": [
    {
     "data": {
      "text/plain": [
       "array([[2, 1],\n",
       "       [0, 4]], dtype=int64)"
      ]
     },
     "execution_count": 144,
     "metadata": {},
     "output_type": "execute_result"
    }
   ],
   "source": [
    "#confusion matrix \n",
    "from sklearn.metrics import confusion_matrix\n",
    "confusion_matrix(y_test,pred.round())"
   ]
  },
  {
   "cell_type": "code",
   "execution_count": 157,
   "metadata": {},
   "outputs": [],
   "source": [
    "\n",
    "def imgread(source):\n",
    "    img  = cv2.imread(source)\n",
    "    img = cv2.cvtColor(img,cv2.COLOR_BGR2RGB)\n",
    "    img = cv2.resize(img,(imsize,imsize))\n",
    "    img = np.asarray(img)\n",
    "    img = img.reshape(-1,224,224,3)\n",
    "    return img"
   ]
  },
  {
   "cell_type": "code",
   "execution_count": 191,
   "metadata": {},
   "outputs": [
    {
     "data": {
      "text/plain": [
       "'normal'"
      ]
     },
     "execution_count": 191,
     "metadata": {},
     "output_type": "execute_result"
    }
   ],
   "source": [
    "result('test.jpeg')"
   ]
  },
  {
   "cell_type": "code",
   "execution_count": 193,
   "metadata": {},
   "outputs": [],
   "source": [
    "model.save('covid.h5')"
   ]
  },
  {
   "cell_type": "code",
   "execution_count": 196,
   "metadata": {},
   "outputs": [
    {
     "name": "stdout",
     "output_type": "stream",
     "text": [
      "WARNING:tensorflow:sample_weight modes were coerced from\n",
      "  ...\n",
      "    to  \n",
      "  ['...']\n",
      "Train for 1 steps\n",
      "Epoch 1/30\n",
      "WARNING:tensorflow:Early stopping conditioned on metric `val_loss` which is not available. Available metrics are: loss,accuracy\n",
      "1/1 [==============================] - 2s 2s/step - loss: 0.9994 - accuracy: 0.4286\n",
      "Epoch 2/30\n",
      "WARNING:tensorflow:Early stopping conditioned on metric `val_loss` which is not available. Available metrics are: loss,accuracy\n",
      "1/1 [==============================] - 1s 1s/step - loss: 0.6565 - accuracy: 0.5714\n",
      "Epoch 3/30\n",
      "WARNING:tensorflow:Early stopping conditioned on metric `val_loss` which is not available. Available metrics are: loss,accuracy\n",
      "1/1 [==============================] - 1s 1s/step - loss: 0.6518 - accuracy: 0.5714\n",
      "Epoch 4/30\n",
      "WARNING:tensorflow:Early stopping conditioned on metric `val_loss` which is not available. Available metrics are: loss,accuracy\n",
      "1/1 [==============================] - 1s 1s/step - loss: 0.6224 - accuracy: 0.5714\n",
      "Epoch 5/30\n",
      "WARNING:tensorflow:Early stopping conditioned on metric `val_loss` which is not available. Available metrics are: loss,accuracy\n",
      "1/1 [==============================] - 1s 1s/step - loss: 0.7679 - accuracy: 0.5714\n",
      "Epoch 6/30\n",
      "WARNING:tensorflow:Early stopping conditioned on metric `val_loss` which is not available. Available metrics are: loss,accuracy\n",
      "1/1 [==============================] - 1s 1s/step - loss: 0.8010 - accuracy: 0.2857\n",
      "Epoch 7/30\n",
      "WARNING:tensorflow:Early stopping conditioned on metric `val_loss` which is not available. Available metrics are: loss,accuracy\n",
      "1/1 [==============================] - 1s 1s/step - loss: 0.6874 - accuracy: 0.7143\n",
      "Epoch 8/30\n",
      "WARNING:tensorflow:Early stopping conditioned on metric `val_loss` which is not available. Available metrics are: loss,accuracy\n",
      "1/1 [==============================] - 1s 1s/step - loss: 0.5151 - accuracy: 0.8571\n",
      "Epoch 9/30\n",
      "WARNING:tensorflow:Early stopping conditioned on metric `val_loss` which is not available. Available metrics are: loss,accuracy\n",
      "1/1 [==============================] - 1s 1s/step - loss: 0.7611 - accuracy: 0.2857\n",
      "Epoch 10/30\n",
      "WARNING:tensorflow:Early stopping conditioned on metric `val_loss` which is not available. Available metrics are: loss,accuracy\n",
      "1/1 [==============================] - 1s 1s/step - loss: 0.7041 - accuracy: 0.5714\n",
      "Epoch 11/30\n",
      "WARNING:tensorflow:Early stopping conditioned on metric `val_loss` which is not available. Available metrics are: loss,accuracy\n",
      "1/1 [==============================] - 1s 1s/step - loss: 0.4896 - accuracy: 0.7143\n",
      "Epoch 12/30\n",
      "WARNING:tensorflow:Early stopping conditioned on metric `val_loss` which is not available. Available metrics are: loss,accuracy\n",
      "1/1 [==============================] - 1s 1s/step - loss: 0.6881 - accuracy: 0.7143\n",
      "Epoch 13/30\n",
      "WARNING:tensorflow:Early stopping conditioned on metric `val_loss` which is not available. Available metrics are: loss,accuracy\n",
      "1/1 [==============================] - 1s 1s/step - loss: 0.6677 - accuracy: 0.5714\n",
      "Epoch 14/30\n",
      "WARNING:tensorflow:Early stopping conditioned on metric `val_loss` which is not available. Available metrics are: loss,accuracy\n",
      "1/1 [==============================] - 1s 1s/step - loss: 0.5406 - accuracy: 0.5714\n",
      "Epoch 15/30\n",
      "WARNING:tensorflow:Early stopping conditioned on metric `val_loss` which is not available. Available metrics are: loss,accuracy\n",
      "1/1 [==============================] - 1s 1s/step - loss: 0.5575 - accuracy: 0.7143\n",
      "Epoch 16/30\n",
      "WARNING:tensorflow:Early stopping conditioned on metric `val_loss` which is not available. Available metrics are: loss,accuracy\n",
      "1/1 [==============================] - 1s 1s/step - loss: 0.8297 - accuracy: 0.4286\n",
      "Epoch 17/30\n",
      "WARNING:tensorflow:Early stopping conditioned on metric `val_loss` which is not available. Available metrics are: loss,accuracy\n",
      "1/1 [==============================] - 1s 1s/step - loss: 0.8379 - accuracy: 0.4286\n",
      "Epoch 18/30\n",
      "WARNING:tensorflow:Early stopping conditioned on metric `val_loss` which is not available. Available metrics are: loss,accuracy\n",
      "1/1 [==============================] - 1s 1s/step - loss: 0.6411 - accuracy: 0.7143\n",
      "Epoch 19/30\n",
      "WARNING:tensorflow:Early stopping conditioned on metric `val_loss` which is not available. Available metrics are: loss,accuracy\n",
      "1/1 [==============================] - 1s 1s/step - loss: 0.7873 - accuracy: 0.4286\n",
      "Epoch 20/30\n",
      "WARNING:tensorflow:Early stopping conditioned on metric `val_loss` which is not available. Available metrics are: loss,accuracy\n",
      "1/1 [==============================] - 1s 1s/step - loss: 0.6440 - accuracy: 0.5714\n",
      "Epoch 21/30\n",
      "WARNING:tensorflow:Early stopping conditioned on metric `val_loss` which is not available. Available metrics are: loss,accuracy\n",
      "1/1 [==============================] - 1s 1s/step - loss: 0.6269 - accuracy: 0.5714\n",
      "Epoch 22/30\n",
      "WARNING:tensorflow:Early stopping conditioned on metric `val_loss` which is not available. Available metrics are: loss,accuracy\n",
      "1/1 [==============================] - 1s 1s/step - loss: 0.6406 - accuracy: 0.5714\n",
      "Epoch 23/30\n",
      "WARNING:tensorflow:Early stopping conditioned on metric `val_loss` which is not available. Available metrics are: loss,accuracy\n",
      "1/1 [==============================] - 1s 1s/step - loss: 0.5524 - accuracy: 0.5714\n",
      "Epoch 24/30\n",
      "WARNING:tensorflow:Early stopping conditioned on metric `val_loss` which is not available. Available metrics are: loss,accuracy\n",
      "1/1 [==============================] - 1s 1s/step - loss: 0.5943 - accuracy: 0.7143\n",
      "Epoch 25/30\n",
      "WARNING:tensorflow:Early stopping conditioned on metric `val_loss` which is not available. Available metrics are: loss,accuracy\n",
      "1/1 [==============================] - 1s 1s/step - loss: 0.5108 - accuracy: 0.7143\n",
      "Epoch 26/30\n",
      "WARNING:tensorflow:Early stopping conditioned on metric `val_loss` which is not available. Available metrics are: loss,accuracy\n",
      "1/1 [==============================] - 1s 1s/step - loss: 0.3784 - accuracy: 1.0000\n",
      "Epoch 27/30\n",
      "WARNING:tensorflow:Early stopping conditioned on metric `val_loss` which is not available. Available metrics are: loss,accuracy\n",
      "1/1 [==============================] - 1s 1s/step - loss: 0.6762 - accuracy: 0.5714\n",
      "Epoch 28/30\n",
      "WARNING:tensorflow:Early stopping conditioned on metric `val_loss` which is not available. Available metrics are: loss,accuracy\n",
      "1/1 [==============================] - 1s 1s/step - loss: 0.5327 - accuracy: 0.7143\n",
      "Epoch 29/30\n",
      "WARNING:tensorflow:Early stopping conditioned on metric `val_loss` which is not available. Available metrics are: loss,accuracy\n",
      "1/1 [==============================] - 1s 989ms/step - loss: 0.4869 - accuracy: 0.8571\n",
      "Epoch 30/30\n",
      "WARNING:tensorflow:Early stopping conditioned on metric `val_loss` which is not available. Available metrics are: loss,accuracy\n",
      "1/1 [==============================] - 1s 1s/step - loss: 0.6395 - accuracy: 0.5714\n"
     ]
    }
   ],
   "source": [
    "#finallhy training the model on the test set too\n",
    "\n",
    "H = model.fit_generator(\n",
    "train_datagen.flow(X_test,y_test ,batch_size=32),\n",
    "steps_per_epoch=len(X_train) // 32,\n",
    "epochs=30,\n",
    "callbacks = [early_stopping])"
   ]
  },
  {
   "cell_type": "code",
   "execution_count": null,
   "metadata": {},
   "outputs": [],
   "source": []
  }
 ],
 "metadata": {
  "kernelspec": {
   "display_name": "Python 3",
   "language": "python",
   "name": "python3"
  },
  "language_info": {
   "codemirror_mode": {
    "name": "ipython",
    "version": 3
   },
   "file_extension": ".py",
   "mimetype": "text/x-python",
   "name": "python",
   "nbconvert_exporter": "python",
   "pygments_lexer": "ipython3",
   "version": "3.7.3"
  }
 },
 "nbformat": 4,
 "nbformat_minor": 2
}
